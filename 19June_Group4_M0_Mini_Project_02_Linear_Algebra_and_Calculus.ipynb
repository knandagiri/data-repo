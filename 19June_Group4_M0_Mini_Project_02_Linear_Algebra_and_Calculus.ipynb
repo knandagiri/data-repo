{
  "nbformat": 4,
  "nbformat_minor": 0,
  "metadata": {
    "colab": {
      "name": "19June_Group4_M0_Mini_Project_02_Linear_Algebra_and_Calculus.ipynb",
      "provenance": [],
      "collapsed_sections": [],
      "include_colab_link": true
    },
    "kernelspec": {
      "display_name": "Python 3",
      "language": "python",
      "name": "python3"
    },
    "language_info": {
      "codemirror_mode": {
        "name": "ipython",
        "version": 3
      },
      "file_extension": ".py",
      "mimetype": "text/x-python",
      "name": "python",
      "nbconvert_exporter": "python",
      "pygments_lexer": "ipython3",
      "version": "3.8.5"
    }
  },
  "cells": [
    {
      "cell_type": "markdown",
      "metadata": {
        "id": "view-in-github",
        "colab_type": "text"
      },
      "source": [
        "<a href=\"https://colab.research.google.com/github/knandagiri/data-repo/blob/master/19June_Group4_M0_Mini_Project_02_Linear_Algebra_and_Calculus.ipynb\" target=\"_parent\"><img src=\"https://colab.research.google.com/assets/colab-badge.svg\" alt=\"Open In Colab\"/></a>"
      ]
    },
    {
      "cell_type": "markdown",
      "metadata": {
        "id": "Vf7UdufgUVRm"
      },
      "source": [
        "# Advanced Certification Program in Computational Data Science\n",
        "## A program by IISc and TalentSprint\n",
        "### Mini Project Notebook 2: Linear Algebra and Calculus\n",
        "(Ungraded Mini-Project)"
      ]
    },
    {
      "cell_type": "markdown",
      "metadata": {
        "id": "TnGEuHJusOup"
      },
      "source": [
        "## Problem Statement"
      ]
    },
    {
      "cell_type": "markdown",
      "metadata": {
        "id": "xlkm2qM2sQ-T"
      },
      "source": [
        " The task is to advise a petroleum company on how to meet the demands of their customers for motor oil, diesel oil and gasoline."
      ]
    },
    {
      "cell_type": "markdown",
      "metadata": {
        "id": "cs0B3ScgUVRv"
      },
      "source": [
        "## Learning Objectives"
      ]
    },
    {
      "cell_type": "markdown",
      "metadata": {
        "id": "Sq5piVQRUVRw"
      },
      "source": [
        "At the end of the experiment, you will be able to\n",
        "\n",
        "* create arrays and matrices in python\n",
        "* understand the concepts of linear equations\n",
        "* solve the system of linear equations"
      ]
    },
    {
      "cell_type": "markdown",
      "metadata": {
        "id": "IvKa0MVttqXf"
      },
      "source": [
        "### Data"
      ]
    },
    {
      "cell_type": "markdown",
      "metadata": {
        "id": "dRrGFyZOtsAj"
      },
      "source": [
        "From a barrel of crude oil, in one day, factory $A$ can produce \n",
        "* 20 gallons of motor oil, \n",
        "* 10 gallons of diesel oil, and \n",
        "* 5 gallons of gasoline \n",
        "\n",
        "Similarly, factory $B$ can produce \n",
        "* 4 gallons of motor oil, \n",
        "* 14 gallons of diesel oil, and \n",
        "* 5 gallons of gasoline\n",
        " \n",
        "while factory $C$ can produce \n",
        "* 4 gallons of motor oil,\n",
        "* 5 gallons of diesel oil, and \n",
        "* 12 gallons of gasoline \n",
        "\n",
        "There is also waste in the form of paraffin, among other things. Factory $A$ has 3 gallons of paraffin to dispose of per barrel of crude, factory $B$ 5 gallons, and factory $C$ 2 gallons."
      ]
    },
    {
      "cell_type": "markdown",
      "metadata": {
        "id": "UK_englE4HnA"
      },
      "source": [
        "**Note:** Your conclusion should include a discussion of the nature of the terms *unique*, *no solution*, *overdetermined* and *underdetermined* as they apply in the context of the oil plants."
      ]
    },
    {
      "cell_type": "code",
      "metadata": {
        "id": "jiHZlZIy0JOm"
      },
      "source": [
        "import numpy as np\n",
        "import math as mth\n",
        "import sympy as sy"
      ],
      "execution_count": null,
      "outputs": []
    },
    {
      "cell_type": "markdown",
      "metadata": {
        "id": "zAitCztdraex"
      },
      "source": [
        "### Create an array \n",
        "\n",
        "Create an array of size 2x3 with arbitrary values."
      ]
    },
    {
      "cell_type": "code",
      "metadata": {
        "id": "owKFXLLzrqVb"
      },
      "source": [
        "# YOUR CODE HERE"
      ],
      "execution_count": null,
      "outputs": []
    },
    {
      "cell_type": "code",
      "metadata": {
        "colab": {
          "base_uri": "https://localhost:8080/"
        },
        "id": "qVtSkqFt0aaE",
        "outputId": "391453c2-5309-4f3b-cfcd-5420eb133b7b"
      },
      "source": [
        "array_arbit = np.array(np.random.rand(6)).reshape(2,3)\n",
        "array_arbit"
      ],
      "execution_count": null,
      "outputs": [
        {
          "output_type": "execute_result",
          "data": {
            "text/plain": [
              "array([[0.42246679, 0.43281865, 0.87680222],\n",
              "       [0.77857767, 0.11676365, 0.98682828]])"
            ]
          },
          "metadata": {
            "tags": []
          },
          "execution_count": 4
        }
      ]
    },
    {
      "cell_type": "markdown",
      "metadata": {
        "id": "K_7EztnGvzDK"
      },
      "source": [
        "### Create the system of Linear Equation"
      ]
    },
    {
      "cell_type": "markdown",
      "metadata": {
        "id": "zL9M9kmrv_ZA"
      },
      "source": [
        "Suppose the current daily demand from distributors is 6600 gallons of motor oil, 5100 gallons of diesel oil and 3100 of gasoline.\n",
        "\n",
        "Set up the system of equations which describes the above situation. Please include the units as well."
      ]
    },
    {
      "cell_type": "markdown",
      "metadata": {
        "id": "nbOcii0EZpUI"
      },
      "source": [
        "Let the number of barrels used by factory $A$, $B$ and $C$ are $x$, $y$ and $z$ respectively.\n",
        "\n",
        "Then the system of linear equations will be\n",
        "\n",
        "$$Motor\\ oil:\\ \\ \\ 20x + 4y + 4z = 6600$$\n",
        "\n",
        "$$Diesel\\ oil:\\ \\ \\ 10x + 14y + 5z = 5100$$\n",
        "\n",
        "$$Gasoline:\\ \\ \\ 5x + 5y + 12z = 3100$$"
      ]
    },
    {
      "cell_type": "markdown",
      "metadata": {
        "id": "1qLF2LvG2I8Y"
      },
      "source": [
        "### Solve the system of Linear Equation"
      ]
    },
    {
      "cell_type": "markdown",
      "metadata": {
        "id": "FzjOkaq21_8L"
      },
      "source": [
        "How many barrels of crude oil each plant should get in order to meet the demand as a group. Remember that we can only provide each plant with an integral number of barrels."
      ]
    },
    {
      "cell_type": "code",
      "metadata": {
        "id": "Plx-kStlcGOW",
        "colab": {
          "base_uri": "https://localhost:8080/"
        },
        "outputId": "e9837b6e-f12a-45a9-fb26-5319ee29448f"
      },
      "source": [
        "# YOUR CODE HERE\n",
        "coef_matrix = np.array([20, 4, 4,10, 14, 5, 5, 5, 12]).reshape(3,3)\n",
        "coef_matrix\n",
        "value_matrix = np.array([6600, 5100, 3100])\n",
        "type(value_matrix)\n",
        "# LEARNINGS \n",
        "# matrix vs array\n",
        "# np.array([6600, 5100, 3100]) w and w/o reshape - CHECK shape of array\n",
        "# np.asarray vs np.array"
      ],
      "execution_count": null,
      "outputs": [
        {
          "output_type": "execute_result",
          "data": {
            "text/plain": [
              "numpy.ndarray"
            ]
          },
          "metadata": {
            "tags": []
          },
          "execution_count": 18
        }
      ]
    },
    {
      "cell_type": "code",
      "metadata": {
        "colab": {
          "base_uri": "https://localhost:8080/"
        },
        "id": "iMU1aG6Y0AUo",
        "outputId": "b4f2a2f5-0400-41c4-8ac4-7a646b50d114"
      },
      "source": [
        "# defining the coefficient matrix\n",
        "# coef_matrix = np.matrix('20, 4, 4; 10, 14, 5; 5, 5, 12')\n",
        "coef_matrix = np.array([[20, 4, 4],[10, 14, 5], [5, 5, 12]])\n",
        "\n",
        "# defining the constant value matrix\n",
        "# value_matrix = np.array('6600, 5100, 3100').reshape(3,1)\n",
        "value_matrix = np.array([[6600],[5100], [3100]])\n",
        "\n",
        "# use np.linalg.solve to solve for x\n",
        "X = np.linalg.solve(coef_matrix, value_matrix)\n",
        "\n",
        "# displaying the value of x, y and z\n",
        "#print(X)\n",
        "\n",
        "# No has to be an integer\n",
        "Xno = np.ceil(X)\n",
        "\n",
        "print( X,\"No. of barrels for Company A, B and C : \\n\", Xno)\n",
        "\n",
        "\n",
        "#****************************************#\n",
        "# Ceiling is pushing 85.00 to 86\n",
        "\n",
        "# Rounding off problem\n",
        "#Xno = np.asmatrix(X)\n",
        "#Xno.put( [0, 1, 2], [np.ceil(X[i]) if mth.modf(X[i])[0] > 0.0 else np.floor(X[i]) for i in range(X.size)] )\n",
        "#print(mth.modf(X[0]))"
      ],
      "execution_count": null,
      "outputs": [
        {
          "output_type": "stream",
          "text": [
            "[[287.25]\n",
            " [128.75]\n",
            " [ 85.  ]] No. of barrels for Company A, B and C : \n",
            " [[288.]\n",
            " [129.]\n",
            " [ 85.]]\n"
          ],
          "name": "stdout"
        }
      ]
    },
    {
      "cell_type": "markdown",
      "metadata": {
        "id": "nY-rFiKAbVl3"
      },
      "source": [
        "Suppose the total demand for all products **doubled**. What would the solution now be? How does it compare to the original solution? Why, mathematically, should this have been expected?"
      ]
    },
    {
      "cell_type": "code",
      "metadata": {
        "id": "OODSS2bFcjKV"
      },
      "source": [
        "# YOUR CODE HERE"
      ],
      "execution_count": null,
      "outputs": []
    },
    {
      "cell_type": "code",
      "metadata": {
        "id": "iEO_AzKY4AML"
      },
      "source": [
        "Motor oil:   20x+4y+4z=6600 * 2 \n",
        "\n",
        "Diesel oil:   10x+14y+5z=5100 * 2\n",
        "\n",
        "Gasoline:   5x+5y+12z=3100 * 2"
      ],
      "execution_count": null,
      "outputs": []
    },
    {
      "cell_type": "code",
      "metadata": {
        "colab": {
          "base_uri": "https://localhost:8080/"
        },
        "id": "oYFS6z2d8ucH",
        "outputId": "a17fa7a9-c8e0-4053-ec34-637d4ddd7366"
      },
      "source": [
        "# Column Matrix X : 3 by 1 gives me the values for the earlier demand. Scale it by 2 to meet the new demand\n",
        "\n",
        "print(\"As per double demand, requirement of No. of Barrels for Company A, B and C = \\n\", np.ceil(2 * X))\n"
      ],
      "execution_count": null,
      "outputs": [
        {
          "output_type": "stream",
          "text": [
            "As per double demand, requirement of No. of Barrels for Company A, B and C = \n",
            " [[575.]\n",
            " [258.]\n",
            " [170.]]\n"
          ],
          "name": "stdout"
        }
      ]
    },
    {
      "cell_type": "code",
      "metadata": {
        "colab": {
          "base_uri": "https://localhost:8080/"
        },
        "id": "CjGHe65ZJqOE",
        "outputId": "7c8e8065-fbf6-4934-fb9b-89ce39f6e823"
      },
      "source": [
        "# Solving the equation fully again with Scaled Demand \n",
        "coefMatrix = np.matrix( [ [20, 4, 4], [10, 14, 5], [5, 5, 12] ])\n",
        "valueMatrix = np.matrix([13200, 10200, 6200]).reshape(3,1)\n",
        "\n",
        "# 1. Solving Linear System equation with linalg.solve()\n",
        "solnMatrix = np.linalg.solve(coefMatrix, valueMatrix)\n",
        "\n",
        "print(\"\\nFor 2 times demand, no of barrels = \\n\", np.ceil(solnMatrix))\n",
        "\n",
        "# 2. Linear System equation solved using Inverse => [A]X = [B] => X = [A]^-1 . [B]\n",
        "#np.ceil( np.dot(np.linalg.inv(coefMatrix), valueMatrix) )\n",
        "\n",
        "# When I use Inverse to solve equations, values are same as linalg.solve() but when applying np.ceil(), the value without decimal point is jumping UP."
      ],
      "execution_count": null,
      "outputs": [
        {
          "output_type": "stream",
          "text": [
            "\n",
            "For 2 times demand, no of barrels = \n",
            " [[575.]\n",
            " [258.]\n",
            " [170.]]\n"
          ],
          "name": "stdout"
        }
      ]
    },
    {
      "cell_type": "code",
      "metadata": {
        "colab": {
          "base_uri": "https://localhost:8080/"
        },
        "id": "NapRohcAkyNx",
        "outputId": "9334a425-5058-459e-d96f-3b23dcd9a64a"
      },
      "source": [
        "factor = np.int64(np.round(np.divide(np.ceil(solnMatrix),Xno)))\n",
        "print(np.gcd.reduce(factor))"
      ],
      "execution_count": null,
      "outputs": [
        {
          "output_type": "stream",
          "text": [
            "[[2]]\n"
          ],
          "name": "stdout"
        }
      ]
    },
    {
      "cell_type": "markdown",
      "metadata": {
        "id": "p_1a-z0Gds6D"
      },
      "source": [
        "Suppose that the company acquires another group of distributors and that the daily demand of this group is 2000 gallons of motor oil, 4000 gallons of gasoline, and 4000 gallons of diesel oil. How would you set up production of just this supply? Are there any options (more than one way)?"
      ]
    },
    {
      "cell_type": "code",
      "metadata": {
        "id": "gWaeKh6eQe2W"
      },
      "source": [
        "# YOUR CODE HERE"
      ],
      "execution_count": null,
      "outputs": []
    },
    {
      "cell_type": "code",
      "metadata": {
        "id": "VuVXR__OBPwl"
      },
      "source": [
        "Motor oil:   20x+4y+4z=2000 \n",
        "\n",
        "Diesel oil:   10x+14y+5z=4000\n",
        "\n",
        "Gasoline:   5x+5y+12z=4000"
      ],
      "execution_count": null,
      "outputs": []
    },
    {
      "cell_type": "code",
      "metadata": {
        "colab": {
          "base_uri": "https://localhost:8080/"
        },
        "id": "6NBwvildB13C",
        "outputId": "cc106efb-b4f5-4ec2-e896-2afc86e6ea2c"
      },
      "source": [
        "# Find Inverse of A\n",
        "Acoef = np.matrix('20, 4, 4; 10, 14, 5; 5, 5, 12')\n",
        "Aval = np.matrix('2000, 4000, 4000').reshape(3,1)\n",
        "\n",
        "Y = np.linalg.solve(Acoef, Aval)\n",
        "\n",
        "# No has to be an integer\n",
        "Yno = np.ceil(Y)\n",
        "print(\"\\nNo of barrels required for second distributer : \\n\", Yno)\n",
        "\n",
        "\n",
        "#**************************************#\n",
        "#For inverse np.linalg.solve(Ainverse, Aval) WILL NOT work. Dot product of Ainverse & Values needs to be taken\n",
        "#inv_Acoef = np.linalg.inv(Acoef)\n",
        "#Y = np.dot(inv_Acoef, Aval)\n",
        "#print(Y)"
      ],
      "execution_count": null,
      "outputs": [
        {
          "output_type": "stream",
          "text": [
            "\n",
            "No of barrels required for second distributer : \n",
            " [[ 13.]\n",
            " [188.]\n",
            " [250.]]\n"
          ],
          "name": "stdout"
        }
      ]
    },
    {
      "cell_type": "markdown",
      "metadata": {
        "id": "H4sayZf1etbN"
      },
      "source": [
        "Next, calculate the needs of each factory (in barrels of crude, as usual) to meet the total demand of both groups of distributors. When you have done this, compare your answer to results already obtained. What mathematical conclusion can you draw?"
      ]
    },
    {
      "cell_type": "code",
      "metadata": {
        "id": "Hjm5kcawewgT"
      },
      "source": [
        "# YOUR CODE HERE"
      ],
      "execution_count": null,
      "outputs": []
    },
    {
      "cell_type": "code",
      "metadata": {
        "colab": {
          "base_uri": "https://localhost:8080/"
        },
        "id": "VhuC0wVTGnHp",
        "outputId": "786f8b0d-bb04-48e1-b7a5-d35e03d55fdc"
      },
      "source": [
        "# To meet the Total demand of Doubled demand and the current demand : Matrix Addition \n",
        "print(\"\\nEarlier demand of production -  X (from first question) : \\n\", X)\n",
        "print(\"Current demand of new distributor - Y ( from the previous question) : \\n\", Y)\n",
        "Total_matrix =  X + Y\n",
        "print(\"\\nTotal demand of barrels is X + Y = \\n\", np.ceil(Total_matrix) )"
      ],
      "execution_count": null,
      "outputs": [
        {
          "output_type": "stream",
          "text": [
            "\n",
            "Earlier demand of production -  X (from first question) : \n",
            " [[287.25]\n",
            " [128.75]\n",
            " [ 85.  ]]\n",
            "Current demand of new distributor - Y ( from the previous question) : \n",
            " [[ 12.5]\n",
            " [187.5]\n",
            " [250. ]]\n",
            "\n",
            "Total demand of barrels is X + Y = \n",
            " [[300.]\n",
            " [317.]\n",
            " [335.]]\n"
          ],
          "name": "stdout"
        }
      ]
    },
    {
      "cell_type": "code",
      "metadata": {
        "colab": {
          "base_uri": "https://localhost:8080/"
        },
        "id": "quAfO_CVl-p2",
        "outputId": "9b4f34f5-9b12-4ba7-821b-2def0f506c1f"
      },
      "source": [
        "# Find Inverse of A\n",
        "Acoef = np.matrix('20, 4, 4; 10, 14, 5; 5, 5, 12')\n",
        "Aval = np.matrix('8600, 9100, 7100').reshape(3,1)\n",
        "\n",
        "Y = np.linalg.solve(Acoef, Aval)\n",
        "\n",
        "# No has to be an integer\n",
        "Yno = np.ceil(Y)\n",
        "print(\"\\nNo of barrels required for second distributer : \\n\", Yno)"
      ],
      "execution_count": null,
      "outputs": [
        {
          "output_type": "stream",
          "text": [
            "\n",
            "No of barrels required for second distributer : \n",
            " [[300.]\n",
            " [317.]\n",
            " [335.]]\n"
          ],
          "name": "stdout"
        }
      ]
    },
    {
      "cell_type": "code",
      "metadata": {
        "colab": {
          "base_uri": "https://localhost:8080/"
        },
        "id": "kiPcCsAtT85P",
        "outputId": "1fbc2a1d-890e-474f-c704-7d1924c87676"
      },
      "source": [
        "import numpy.matlib as mat\n",
        "\n",
        "#Wastage / barrel for all 3 Companies - A : 3 gallons , B : 5 gallons and C : 2 gallons\n",
        "\n",
        "# Creating Empty matrix with shape 3 by 1 and then putting in values - 3, 5, 2 . Should be a COLUMN MATRIX :: 3 by 1\n",
        "waste_matrix = mat.empty((3,1))\n",
        "waste_matrix.put([0, 1, 2], [3, 5, 2])    # [0, 1, 2] are the indices and the next list is the values\n",
        "\n",
        "print(\"Waste : \\n\", waste_matrix)\n",
        "print(\"No. of barrels / company : \\n\", np.ceil(Total_matrix) )\n",
        "\n",
        "# Element wise multiplication required so np.array provides np.multiply and A * B for element wise multiplication\n",
        "print(\"\\nTotal waste production company-wise : \\n\", np.array(waste_matrix) * np.array(np.ceil(Total_matrix)) )"
      ],
      "execution_count": null,
      "outputs": [
        {
          "output_type": "stream",
          "text": [
            "Waste : \n",
            " [[3.]\n",
            " [5.]\n",
            " [2.]]\n",
            "No. of barrels / company : \n",
            " [[300.]\n",
            " [317.]\n",
            " [335.]]\n",
            "\n",
            "Total waste production company-wise : \n",
            " [[ 900.]\n",
            " [1585.]\n",
            " [ 670.]]\n"
          ],
          "name": "stdout"
        }
      ]
    },
    {
      "cell_type": "markdown",
      "metadata": {
        "id": "ov7RWVpSpzhw"
      },
      "source": [
        "### Sensitivity and Robustness"
      ]
    },
    {
      "cell_type": "markdown",
      "metadata": {
        "id": "G1MVw0x_fQMC"
      },
      "source": [
        "In real life applications, constants are rarely ever exactly equal to their stated value; certain amounts of uncertainty are always present. This is part of the reason for the science of statistics. In the above model, the daily productions for the plants would be averages over a period of time. Explore what effect small changes in the parameters have on the output.\n",
        "\n",
        "To do this, pick any 3 coefficients, one at a time, and increase or decrease them by 3%. For each case , note what effect this has on the solution, as a percentage change. Can you draw any overall conclusion?"
      ]
    },
    {
      "cell_type": "code",
      "metadata": {
        "id": "ObBZDKvYfqie"
      },
      "source": [
        "# YOUR CODE HERE"
      ],
      "execution_count": null,
      "outputs": []
    },
    {
      "cell_type": "code",
      "metadata": {
        "id": "GviqDUZDanJH"
      },
      "source": [
        "Motor oil:   20x+4y+4z=6600 \n",
        "\n",
        "Diesel oil:   10x+14y+5z=5100 \n",
        "\n",
        "Gasoline:   5x+5y+12z=3100"
      ],
      "execution_count": null,
      "outputs": []
    },
    {
      "cell_type": "code",
      "metadata": {
        "colab": {
          "base_uri": "https://localhost:8080/"
        },
        "id": "fuzBxZfXbHaG",
        "outputId": "94d6c590-8fe3-44a8-8edf-699d39a2acd2"
      },
      "source": [
        "# 3 % increase means Multiplying with a scalar 1.03\n",
        "coef_matrix1 = np.array([20*1.03, 4, 4,10*1.03, 14, 5, 5*1.03, 5, 12]).reshape(3,3)\n",
        "coef_matrix2 = np.array([20*0.97, 4, 4,10*0.97, 14, 5, 5*0.97, 5, 12]).reshape(3,3)\n",
        "\n",
        "# defining the constant value matrix\n",
        "value_matrix = np.matrix('6600, 5100, 3100').reshape(3,1)\n",
        "\n",
        "# Solve linear equation\n",
        "soln_mat = np.linalg.solve(coef_matrix, value_matrix) # No change \n",
        "soln_mat1 = np.linalg.solve(coef_matrix1, value_matrix) # 3% increase for A\n",
        "soln_mat2 = np.linalg.solve(coef_matrix2, value_matrix) # 3% decrease for A\n",
        "\n",
        "print(soln_mat[0],soln_mat1[0],soln_mat2[0])\n",
        "print(soln_mat1[0] - soln_mat[0],soln_mat2[0] - soln_mat[0])\n",
        "\n",
        "# ******************************************************#\n",
        "\n",
        "# Rounding off problem for float decimal values\n",
        "#tmp = np.asmatrix(soln_mat)\n",
        "#tmp.put( [0, 1, 2], [np.ceil(soln_mat[i]) if mth.modf(soln_mat[i])[0] > 0.0 else np.floor(soln_mat[i]) for i in range(soln_mat.size)] )\n",
        "\n",
        "#print(\"\\n Barrels required : \\n\", tmp )"
      ],
      "execution_count": null,
      "outputs": [
        {
          "output_type": "stream",
          "text": [
            "[[287.25]] [[278.88349515]] [[296.13402062]]\n",
            "[[-8.36650485]] [[8.88402062]]\n"
          ],
          "name": "stdout"
        }
      ]
    },
    {
      "cell_type": "code",
      "metadata": {
        "colab": {
          "base_uri": "https://localhost:8080/"
        },
        "id": "V3SWxGw6oYTG",
        "outputId": "a04addae-c27e-4ca6-e2b8-b3bd0b9944de"
      },
      "source": [
        "import itertools\n",
        "\n",
        "perm = np.asarray(list(itertools.permutations(range(3),2)))\n",
        "np.random.shuffle(perm)\n",
        "perm = perm[:3]\n",
        "print(perm)\n",
        "\n",
        "new_coeff_mat = np.asarray(coef_matrix.copy(), dtype= np.float64)\n",
        "pctChange = 0.03\n",
        "\n",
        "for i in perm:\n",
        "  sign = np.array([-1, 1])\n",
        "  np.random.shuffle(sign)\n",
        "  new_coeff_mat[i[0],i[1]] = new_coeff_mat[i[0],i[1]] + sign[0] * 0.03\n",
        "\n",
        "print(\"\\noriginal coeff mat\")\n",
        "print(coef_matrix)\n",
        "\n",
        "print(\"\\nNew coeff mat\")\n",
        "print(new_coeff_mat)\n",
        "\n",
        "new_barrel_vec = np.linalg.solve(new_coeff_mat,value_matrix)\n",
        "new_barrel_vec_int = np.int64(np.ceil(new_barrel_vec))\n",
        "print(new_barrel_vec_int)\n",
        "\n",
        "change = [(new_barrel_vec[i] - X[i]) / 100.0 for i in range(len(X))]\n",
        "print(\"\\nchange: \" + str(change))"
      ],
      "execution_count": null,
      "outputs": [
        {
          "output_type": "stream",
          "text": [
            "[[0 1]\n",
            " [1 0]\n",
            " [1 2]]\n",
            "\n",
            "original coeff mat\n",
            "[[20  4  4]\n",
            " [10 14  5]\n",
            " [ 5  5 12]]\n",
            "\n",
            "New coeff mat\n",
            "[[20.    3.97  4.  ]\n",
            " [10.03 14.    5.03]\n",
            " [ 5.    5.   12.  ]]\n",
            "[[288]\n",
            " [128]\n",
            " [ 86]]\n",
            "\n",
            "change: [array([0.00358569]), array([-0.01177104]), array([0.00341056])]\n"
          ],
          "name": "stdout"
        }
      ]
    },
    {
      "cell_type": "markdown",
      "metadata": {
        "id": "JOj5wcxQpzhx"
      },
      "source": [
        "### A Plant Off-Line"
      ]
    },
    {
      "cell_type": "markdown",
      "metadata": {
        "id": "Dbm0HcJ7frNz"
      },
      "source": [
        "Suppose factory $C$ is shut down by the EPA (Environmental Protection Agency) temporarily for excessive emissions into the atmosphere. If your demand is as it was originally (6600, 5100, 3100), what would you now say about the companies ability to meet it? What do you recommend they schedule for production now?"
      ]
    },
    {
      "cell_type": "code",
      "metadata": {
        "id": "gpbtzvrVAST3"
      },
      "source": [
        "# YOUR CODE HERE"
      ],
      "execution_count": null,
      "outputs": []
    },
    {
      "cell_type": "code",
      "metadata": {
        "id": "LEThV3eE93wR"
      },
      "source": [
        "import sympy as sy"
      ],
      "execution_count": null,
      "outputs": []
    },
    {
      "cell_type": "code",
      "metadata": {
        "id": "L_YBmypxw5NR"
      },
      "source": [
        "Motor oil:   20x+4y+0z=6600 \n",
        "\n",
        "Diesel oil:   10x+14y+0z=5100 \n",
        "\n",
        "Gasoline:   5x+5y+0z=3100"
      ],
      "execution_count": null,
      "outputs": []
    },
    {
      "cell_type": "code",
      "metadata": {
        "colab": {
          "base_uri": "https://localhost:8080/"
        },
        "id": "4uLVtn1PQzMa",
        "outputId": "8a4d740b-14db-4fa8-93dd-2bc978212268"
      },
      "source": [
        "# 1.\n",
        "# Using the Reduced Row Echelon Form of Sympy :: rref\n",
        "M = sy.Matrix( [ [20, 4, 0, 6600], [10, 14, 0, 5100], [5, 5, 0, 3100] ])\n",
        "aug_M = M.rref()\n",
        "aug_M"
      ],
      "execution_count": null,
      "outputs": [
        {
          "output_type": "execute_result",
          "data": {
            "text/plain": [
              "(Matrix([\n",
              " [1, 0, 0, 0],\n",
              " [0, 1, 0, 0],\n",
              " [0, 0, 0, 1]]), (0, 1, 3))"
            ]
          },
          "metadata": {
            "tags": []
          },
          "execution_count": 341
        }
      ]
    },
    {
      "cell_type": "code",
      "metadata": {
        "colab": {
          "base_uri": "https://localhost:8080/"
        },
        "id": "qkMggOJPRnG-",
        "outputId": "e20e36a1-d95a-4c18-b9fd-eb7860a47da1"
      },
      "source": [
        "print(\"\\n The rref of the matrix shows x = 0 and y = 0 and z does not exist !!! \")\n",
        "#  this is a unique solution X = 19, Y = 11 and Z = 11\n",
        " [1, 0, 0, 19],\n",
        " [0, 1, 0, 11],\n",
        " [0, 0, 1, 11]\n",
        "# No Solution. as 0 != 1 in the last row\n",
        " [1, 0, 0, 0],\n",
        " [0, 1, 0, 0],\n",
        " [0, 0, 0, 1]\n",
        "# Many solutions example\n",
        " [1, 0, 0, 10],\n",
        " [0, 1, 1, 20],\n",
        " [0, 1, 1, 156]"
      ],
      "execution_count": null,
      "outputs": [
        {
          "output_type": "stream",
          "text": [
            "\n",
            " The rref of the matrix shows x = 0 and y = 0 and z does not exist !!! \n"
          ],
          "name": "stdout"
        }
      ]
    },
    {
      "cell_type": "code",
      "metadata": {
        "colab": {
          "base_uri": "https://localhost:8080/"
        },
        "id": "1GHUy50G85X4",
        "outputId": "320f4e92-50cf-413c-96a8-3774b0f5fb04"
      },
      "source": [
        "# 2. Solving Equation 1 & 2 :\n",
        "# x and y could be solved with any 2 equations \n",
        "M = sy.Matrix( [[20, 4, 6600] , [10, 14, 5100]] )\n",
        "Soln = M.rref()\n",
        "Soln\n",
        "print(\"\\n X & Y :: \", Soln[0].col(-1) )\n",
        "\n",
        "#2. Solving Equation 2 & 3 :\n",
        "# x and y could be solved with any 2 equations \n",
        "M = sy.Matrix( [ [10, 14, 5100] , [5, 5, 3100] ] )\n",
        "Soln = M.rref()\n",
        "Soln\n",
        "print(\"\\n X & Y :: \", Soln[0].col(-1) )\n",
        "\n",
        "#2. Solving Equation 1 & 3 :\n",
        "# x and y could be solved with any 2 equations \n",
        "M = sy.Matrix( [ [20, 4, 6600] , [5, 5, 3100] ] )\n",
        "Soln = M.rref()\n",
        "Soln\n",
        "print(\"\\n X & Y :: \", Soln[0].col(-1) )\n",
        "\n",
        "print(\"\\n All 3 set of equation gave 3 different values for X and Y :: NOT A DEFINED SOLUTION !!! \")"
      ],
      "execution_count": null,
      "outputs": [
        {
          "output_type": "stream",
          "text": [
            "\n",
            " X & Y ::  Matrix([[300], [150]])\n",
            "\n",
            " X & Y ::  Matrix([[895], [-275]])\n",
            "\n",
            " X & Y ::  Matrix([[515/2], [725/2]])\n",
            "\n",
            " All 3 set of equation gave 3 different values for X and Y :: NOT A DEFINED SOLUTION !!! \n"
          ],
          "name": "stdout"
        }
      ]
    },
    {
      "cell_type": "code",
      "metadata": {
        "colab": {
          "base_uri": "https://localhost:8080/"
        },
        "id": "805wRjhauhaG",
        "outputId": "e3f20da5-5ff3-425d-bc0f-70b29c2361ed"
      },
      "source": [
        "#3. Least Square Method \n",
        "\n",
        "# defining the coefficient matrix\n",
        "coef_matrix = np.matrix('20, 4, 0; 10, 14, 0; 5, 5, 0')\n",
        "\n",
        "# defining the constant value matrix\n",
        "value_matrix = np.matrix('6600, 5100, 3100').reshape(3,1)\n",
        "\n",
        "# use np.linalg.solve to solve for x\n",
        "X = np.linalg.lstsq(coef_matrix, value_matrix, rcond = -1)\n",
        "\n",
        "# displaying the value of x, y and z\n",
        "print(X)"
      ],
      "execution_count": null,
      "outputs": [
        {
          "output_type": "stream",
          "text": [
            "(matrix([[299.47204969],\n",
            "        [168.47826087],\n",
            "        [  0.        ]]), matrix([], shape=(1, 0), dtype=float64), 2, array([25.79117677,  9.83947158,  0.        ]))\n"
          ],
          "name": "stdout"
        }
      ]
    },
    {
      "cell_type": "code",
      "metadata": {
        "id": "EL2EVyTlwm-D"
      },
      "source": [
        "#rcond : float, optional\n",
        "#    Cut-off ratio for small singular values of a.\n",
        "# Rank"
      ],
      "execution_count": null,
      "outputs": []
    },
    {
      "cell_type": "markdown",
      "metadata": {
        "id": "tZpzEVmEpzhx"
      },
      "source": [
        "### Buying another plant"
      ]
    },
    {
      "cell_type": "markdown",
      "metadata": {
        "id": "X0ghbS-s3Mel"
      },
      "source": [
        "This situation has caused enough concern that the CEO is considering buying another plant, identical to the third, and using it permanently. Assuming that all 4 plants are on line, what production do you recommend to meet the current demand (5000, 8500, 10000)? In general, what can you say about any increased flexibility that the 4th plant might provide?"
      ]
    },
    {
      "cell_type": "markdown",
      "metadata": {
        "id": "IcbiTq8zpzhx"
      },
      "source": [
        "Let the number of barrels used by factory $A$, $B$, $C$ and $D$ are $x$, $y$, $z$ and $w$ respectively.\n",
        "\n",
        "Then the system of linear equations will be\n",
        "\n",
        "$$20x + 4y + 4z + 4w = 5000$$\n",
        "\n",
        "$$10x + 14y + 5z + 5w = 8500$$\n",
        "\n",
        "$$5x + 5y + 12z + 12w = 10000$$\n",
        "\n",
        "The above system of linear equation has fewer equations than variables, hence it is *underdetermined* and cannot have a unique solution. In this case, there are either infinitely many solutions or no exact solution. We can solve it by keeping $w$ as constant and using [rref](http://linear.ups.edu/html/section-RREF.html) form to solve the system of linear equation.\n",
        "\n",
        "To know about rref implementation in python refer [here](https://docs.sympy.org/latest/tutorial/matrices.html#rref)."
      ]
    },
    {
      "cell_type": "code",
      "metadata": {
        "colab": {
          "base_uri": "https://localhost:8080/"
        },
        "id": "DnCYG65tB8gp",
        "outputId": "9201fa7a-a949-43f9-f2c5-0bb5f87724b9"
      },
      "source": [
        "import sympy as sy\n",
        "\n",
        "# create symbol 'w'\n",
        "w = sy.Symbol(\"w\")            \n",
        "A_aug = sy.Matrix([[20, 4, 4, 5000-4*w], \n",
        "                   [10, 14, 5, 8500-5*w], \n",
        "                   [5, 5, 12, 10000-12*w]])\n",
        "# show rref form\n",
        "A_aug.rref()                  "
      ],
      "execution_count": 44,
      "outputs": [
        {
          "output_type": "execute_result",
          "data": {
            "text/plain": [
              "(Matrix([\n",
              " [1, 0, 0,   195/4],\n",
              " [0, 1, 0,  1325/4],\n",
              " [0, 0, 1, 675 - w]]), (0, 1, 2))"
            ]
          },
          "metadata": {
            "tags": []
          },
          "execution_count": 44
        }
      ]
    },
    {
      "cell_type": "code",
      "metadata": {
        "id": "OI4v23WcxZuT"
      },
      "source": [
        ""
      ],
      "execution_count": null,
      "outputs": []
    },
    {
      "cell_type": "markdown",
      "metadata": {
        "id": "1lcEL3n5pzhz"
      },
      "source": [
        "From the above result, it can be seen that 4th plant will share the number of barrels required by the 3rd plant only, while the requirement of 1st and 2nd plant will remain unaffected."
      ]
    },
    {
      "cell_type": "markdown",
      "metadata": {
        "id": "yE9hCfAMpzhz"
      },
      "source": [
        "### Calculate the amount of Paraffin supplied"
      ]
    },
    {
      "cell_type": "markdown",
      "metadata": {
        "id": "u9HSGUeZquXD"
      },
      "source": [
        "The company has just found a candle company that will buy its paraffin. Under the current conditions (i.e, after buying another plant) for demand (5000, 8500, 10000), how much can be supplied to them per day?"
      ]
    },
    {
      "cell_type": "markdown",
      "metadata": {
        "id": "ilEui1GHA3Oh"
      },
      "source": [
        "According to the problem statement, factory $A$ has 3 gallons of paraffin to dispose of per barrel of crude oil, factory $B$ 5 gallons, and factory $C$ 2 gallons."
      ]
    },
    {
      "cell_type": "code",
      "metadata": {
        "id": "gJnUalG2_r0i",
        "colab": {
          "base_uri": "https://localhost:8080/"
        },
        "outputId": "47e57fb1-c5c9-45fc-dce3-31d326485968"
      },
      "source": [
        "# YOUR CODE HERE\n",
        "# z + w = 675\n",
        "# 195/4 * 3 + 1325/4 * 5 + (675) * 2 (= z * 2 + w *2 = (z + w) *2 = 675 *2)\n",
        "paraffin = sy.Matrix([3,5,2]).T\n",
        "barrel_count = A_aug.rref()[0][:,3]\n",
        "print(barrel_count)\n",
        "paraffin_prod = paraffin * barrel_count\n",
        "print(\"\\nParaffin production: \" + str(paraffin_prod[0]))\n",
        "print(\"The answer is 195/4 * 3 + 1325/4 * 5 + (675) * 2\")"
      ],
      "execution_count": 46,
      "outputs": [
        {
          "output_type": "stream",
          "text": [
            "Matrix([[195/4], [1325/4], [675 - w]])\n",
            "\n",
            "Paraffin production: 6305/2 - 2*w\n",
            "The answer is 195/4 * 3 + 1325/4 * 5 + (675) * 2\n"
          ],
          "name": "stdout"
        }
      ]
    },
    {
      "cell_type": "code",
      "metadata": {
        "colab": {
          "base_uri": "https://localhost:8080/"
        },
        "id": "OV2LIPmU0Kym",
        "outputId": "db2bbb6e-e029-4c06-b6ed-09e853b42b64"
      },
      "source": [
        "import numpy.matlib as mat\n",
        "\n",
        "#Wastage / barrel for all 3 Companies - A : 3 gallons , B : 5 gallons and C : 2 gallons\n",
        "\n",
        "waste_matrix = mat.empty((3,1))\n",
        "waste_matrix.put([0, 1, 2], [3, 5, 2])    # [0, 1, 2] are the indices and the next list is the values\n",
        "\n",
        "# Taking A_aug from previous question\n",
        "s = A_aug.rref()[0]\n",
        "s = mat.matrix(s.col(-1)[0:2])\n",
        "s = s.reshape(2,1,)\n",
        "\n",
        "print(\"\\nWaste : \\n\", waste_matrix)\n",
        "print(\"\\n Earlier soln for variables x and y from rref : \\n\", s)\n",
        "\n",
        "# Element wise multiplication :: Array Multiplication\n",
        "final = np.array(waste_matrix[0:2]) * np.array(s)\n",
        "tmpmat = np.asmatrix(s)\n",
        "tmpmat.put([0, 1], [np.ceil(i) for i in final] )\n",
        "print(\"\\n Supply of paraffin by company A and B : \\n\", tmpmat)"
      ],
      "execution_count": null,
      "outputs": [
        {
          "output_type": "stream",
          "text": [
            "\n",
            "Waste : \n",
            " [[3.]\n",
            " [5.]\n",
            " [2.]]\n",
            "\n",
            " Earlier soln for variables x and y from rref : \n",
            " [[195/4]\n",
            " [1325/4]]\n",
            "\n",
            " Supply of paraffin by company A and B : \n",
            " [[147]\n",
            " [1657]]\n"
          ],
          "name": "stdout"
        }
      ]
    },
    {
      "cell_type": "code",
      "metadata": {
        "id": "jaFoikcUx5Di"
      },
      "source": [
        "Motor oil:   20x+4y+4z=5000 \n",
        "\n",
        "Diesel oil:   10x+14y+5z=8500\n",
        "\n",
        "Gasoline:   5x+5y+12z=10000"
      ],
      "execution_count": null,
      "outputs": []
    },
    {
      "cell_type": "code",
      "metadata": {
        "colab": {
          "base_uri": "https://localhost:8080/"
        },
        "id": "u_MrDu5xyN58",
        "outputId": "3213fa8f-8832-46c5-9acc-024138599a30"
      },
      "source": [
        "#2. Solving full equation\n",
        "import numpy.matlib as mat\n",
        "\n",
        "Acoef = np.matrix('20, 4, 4; 10, 14, 5; 5, 5, 12')\n",
        "Aval = np.matrix('5000, 8500, 10000').reshape(3,1)\n",
        "\n",
        "Y = np.linalg.solve(Acoef, Aval)\n",
        "Yno = np.ceil(Y)\n",
        "\n",
        "# Creates an empty matrix \n",
        "waste_matrix = mat.empty((3,1))\n",
        "\n",
        "# np.matrix has a function put to add values to a matrix based on the indices. First argument is a list of indices and second is the list of values\n",
        "waste_matrix.put([0, 1, 2], [3, 5, 2])\n",
        "\n",
        "print( np.array(Yno) * np.array(waste_matrix) )"
      ],
      "execution_count": null,
      "outputs": [
        {
          "output_type": "stream",
          "text": [
            "[[ 147.]\n",
            " [1660.]\n",
            " [1350.]]\n"
          ],
          "name": "stdout"
        }
      ]
    },
    {
      "cell_type": "markdown",
      "metadata": {
        "id": "sSpnIH4Ypzh0"
      },
      "source": [
        "### Selling the first plant"
      ]
    },
    {
      "cell_type": "markdown",
      "metadata": {
        "id": "8l3c1GN14EDp"
      },
      "source": [
        "The management is also considering selling the first plant due to aging equipment and high workman's compensation costs for the state it is located in. They would like to know what this would do to their production capability. Specifically, they would like an example of a demand they could not meet with only plants 2 and 3, and also what effect having plant 4 has (recall it is identical to plant 3). They would also like an example of a demand that they could meet with just plants 2 and 3. Any general statements you could make here would be helpful."
      ]
    },
    {
      "cell_type": "markdown",
      "metadata": {
        "id": "qYz46wb2GTo7"
      },
      "source": [
        "Let the number of barrels used by factory $B$, $C$ and $D$ are $y$, $z$ and $w$ respectively.\n",
        "\n",
        "When considering only plants 2 and 3, and demand (5000, 8500, 10000) then we have\n",
        "\n",
        "$$4y + 4z = 5000$$\n",
        "\n",
        "$$14y + 5z = 8500$$\n",
        "\n",
        "$$5y + 12z = 10000$$"
      ]
    },
    {
      "cell_type": "code",
      "metadata": {
        "id": "Ru-prbsHGwH_"
      },
      "source": [
        "# YOUR CODE HERE\n",
        "4𝑦+4𝑧+4w=5000 \n",
        "14𝑦+5𝑧+5w=8500\n",
        "5𝑦+12𝑧+12w=10000"
      ],
      "execution_count": null,
      "outputs": []
    },
    {
      "cell_type": "code",
      "metadata": {
        "id": "QSPWmzzSGjE0"
      },
      "source": [
        "import sympy as sy"
      ],
      "execution_count": null,
      "outputs": []
    },
    {
      "cell_type": "code",
      "metadata": {
        "colab": {
          "base_uri": "https://localhost:8080/"
        },
        "id": "OZ5rVaTt3ai5",
        "outputId": "bed8ccdf-4a41-4a47-db97-6c21de843dad"
      },
      "source": [
        "# 1.\n",
        "# Solving every pair of equations\n",
        "# Solving Equation 1 and 2 \n",
        "M = sy.Matrix( [[4, 4, 5000],[14, 5, 8500]] )\n",
        "Soln = M.rref()\n",
        "#print(Soln)\n",
        "print(\"\\n No of barrels required by Company 2 and 3 : \\n\", Soln[0].col(-1))\n",
        "\n",
        "# Solving Equation 2 and 3 \n",
        "M = sy.Matrix( [[14, 5, 8500],[5, 12, 10000]] )\n",
        "Soln = M.rref()\n",
        "#print(\"\\n\", Soln)\n",
        "print(\"\\n No of barrels required by Company 2 and 3 : \\n\", Soln[0].col(-1))\n",
        "\n",
        "# Solving Equation 1 and 3 \n",
        "M = sy.Matrix( [[4, 4, 5000],[5, 12, 10000]] )\n",
        "Soln = M.rref()\n",
        "#print(\"\\n\", Soln)\n",
        "print(\"\\n No of barrels required by Company 2 and 3 : \\n\", Soln[0].col(-1))\n",
        "\n",
        "print(\"\\nMANY solutions for y and z :: NO defined solution !!!\")"
      ],
      "execution_count": null,
      "outputs": [
        {
          "output_type": "stream",
          "text": [
            "\n",
            " No of barrels required by Company 2 and 3 : \n",
            " Matrix([[250], [1000]])\n",
            "\n",
            " No of barrels required by Company 2 and 3 : \n",
            " Matrix([[4000/11], [7500/11]])\n",
            "\n",
            " No of barrels required by Company 2 and 3 : \n",
            " Matrix([[5000/7], [3750/7]])\n",
            "\n",
            "MANY solutions for y and z :: NO defined solution !!!\n"
          ],
          "name": "stdout"
        }
      ]
    },
    {
      "cell_type": "code",
      "metadata": {
        "colab": {
          "base_uri": "https://localhost:8080/"
        },
        "id": "tGgihFYx4EBk",
        "outputId": "d6cb693b-0031-4e3a-823b-5c615ab689e3"
      },
      "source": [
        "# 2.\n",
        "# Least Square Method\n",
        "# defining the coefficient matrix\n",
        "coef_matrix = np.matrix('4, 4; 14, 5; 5, 12')\n",
        "\n",
        "# defining the constant value matrix\n",
        "value_matrix = np.matrix('5000, 8500, 10000').reshape(3,1)\n",
        "\n",
        "# use np.linalg.solve to solve for x\n",
        "X = np.linalg.lstsq(coef_matrix, value_matrix, -1)\n",
        "\n",
        "# displaying the value of x, y and z\n",
        "print(X)"
      ],
      "execution_count": null,
      "outputs": [
        {
          "output_type": "stream",
          "text": [
            "(matrix([[369.30178881],\n",
            "        [695.03750721]]), matrix([[607616.84939411]]), 2, array([18.95513121,  7.91852263]))\n"
          ],
          "name": "stdout"
        }
      ]
    },
    {
      "cell_type": "markdown",
      "metadata": {
        "id": "bLsK1-zNEP0T"
      },
      "source": [
        "Taking 4th plant into consideration.\n",
        "Let the number of barrels used by factory $B$, $C$ and $D$ are $y$, $z$ and $w$ respectively.\n",
        "\n",
        "Then for demand (5000, 8500, 10000) the system of linear equations will be\n",
        "\n",
        "$$4y + 4z + 4w = 5000$$\n",
        "\n",
        "$$14y + 5z + 5w = 8500$$\n",
        "\n",
        "$$5y + 12z + 12w = 10000$$\n",
        "\n",
        "Solve it using rref form."
      ]
    },
    {
      "cell_type": "code",
      "metadata": {
        "id": "5lqPcpJ9F9xx"
      },
      "source": [
        "# YOUR CODE HERE"
      ],
      "execution_count": null,
      "outputs": []
    },
    {
      "cell_type": "code",
      "metadata": {
        "colab": {
          "base_uri": "https://localhost:8080/"
        },
        "id": "uEBck10DHRsi",
        "outputId": "224efa18-1f31-4d08-93df-8bb7be30de4f"
      },
      "source": [
        "# Equation could be solved as 3 variables and 3 equations\n",
        "# sy is sympy which has been imported earlier\n",
        "\n",
        "M = sy.Matrix( [ [4, 4, 4, 5000], [14, 5, 5, 8500], [5, 12, 12, 10000] ] )\n",
        "aug_rref = M.rref()\n",
        "\n",
        "print(aug_rref)\n",
        "\n",
        "# Equations :\n",
        "# y = 0\n",
        "# z + w = 0\n",
        "print(\"\\n No Solution : Demand - Supply will NOT be met !!!\")"
      ],
      "execution_count": 47,
      "outputs": [
        {
          "output_type": "stream",
          "text": [
            "(Matrix([\n",
            "[1, 0, 0, 0],\n",
            "[0, 1, 1, 0],\n",
            "[0, 0, 0, 1]]), (0, 1, 3))\n",
            "\n",
            " No Solution : Demand - Supply will NOT be met !!!\n"
          ],
          "name": "stdout"
        }
      ]
    },
    {
      "cell_type": "markdown",
      "metadata": {
        "id": "u7SDjgFkP5fj"
      },
      "source": [
        "Now, changing demand to (6600, 5100, 3100) and solving the system of equation using rref form."
      ]
    },
    {
      "cell_type": "code",
      "metadata": {
        "id": "nwSpgbqAGlON"
      },
      "source": [
        "# YOUR CODE HERE"
      ],
      "execution_count": null,
      "outputs": []
    },
    {
      "cell_type": "code",
      "metadata": {
        "colab": {
          "base_uri": "https://localhost:8080/"
        },
        "id": "A4sC-Rzw4ssM",
        "outputId": "2398acbe-f22d-461c-ad97-05364a06ce4e"
      },
      "source": [
        "# Equation could be solved as 3 variables and 3 equations\n",
        "M = sy.Matrix( [ [4, 4, 4, 6600], [14, 5, 5, 5100], [5, 12, 12, 3100] ] )\n",
        "aug_rref = M.rref()\n",
        "\n",
        "print(aug_rref)\n",
        "\n",
        "# Equations :\n",
        "# y = 0\n",
        "# z + w = 0\n",
        "print(\"\\n No Solution : Demand - Supply will NOT be met !!!\")"
      ],
      "execution_count": null,
      "outputs": [
        {
          "output_type": "stream",
          "text": [
            "(Matrix([\n",
            "[1, 0, 0, 0],\n",
            "[0, 1, 1, 0],\n",
            "[0, 0, 0, 1]]), (0, 1, 3))\n",
            "\n",
            " No Solution : Demand - Supply will NOT be met !!!\n"
          ],
          "name": "stdout"
        }
      ]
    },
    {
      "cell_type": "markdown",
      "metadata": {
        "id": "fngUPMK_pzh1"
      },
      "source": [
        "### Set rates for Products"
      ]
    },
    {
      "cell_type": "markdown",
      "metadata": {
        "id": "8Go0tQYtpzh1"
      },
      "source": [
        "Company wants to set the rates of motor oil, diesel oil, and gasoline. For this purpose they have few suggestions given as follows: \n",
        "\n",
        "* 100, 66, 102 Rupees per gallon,\n",
        "\n",
        "* 104, 64, 100 Rupees per gallon,\n",
        "\n",
        "* 102, 68, 98 Rupees per gallon, and\n",
        "\n",
        "* 96, 68, 100 Rupees per gallon \n",
        "\n",
        "for motor oil, diesel oil, and gasoline respectively.\n",
        "\n",
        "Using matrix multiplication, find the rates which results in maximum total price."
      ]
    },
    {
      "cell_type": "markdown",
      "metadata": {
        "id": "9yRue5zIpzh1"
      },
      "source": [
        "Let $M$ denotes the matrix such that rows represents different plants (A, B and C), columns represents different products (motor oil, diesel oil and gasoline) and each value represents production of that product from one barrel of crude oil for that plant.\n",
        "\n",
        "$$M = \\begin{bmatrix}\n",
        "20 & 10 & 5 \\\\ \n",
        "4 & 14 & 5  \\\\ \n",
        " 4 & 5 & 12  \n",
        "\\end{bmatrix}$$\n",
        "\n",
        "Also, $R$ is a matrix having different rates as its columns.\n",
        "\n",
        "$$R = \\begin{bmatrix}\n",
        "100 & 104 & 102 & 96 \\\\ \n",
        "66 & 64 & 68 & 68  \\\\ \n",
        "102 & 100 & 98 & 100  \n",
        "\\end{bmatrix}$$"
      ]
    },
    {
      "cell_type": "code",
      "metadata": {
        "id": "Sz5Bef3npzh1"
      },
      "source": [
        "# YOUR CODE HERE"
      ],
      "execution_count": null,
      "outputs": []
    },
    {
      "cell_type": "code",
      "metadata": {
        "colab": {
          "base_uri": "https://localhost:8080/"
        },
        "id": "3s2uErL7Jrtg",
        "outputId": "21d1b418-47f8-4210-e7ab-efdf7c23aafa"
      },
      "source": [
        "# Matrix multiplication :- dot product\n",
        "# sy is sympy which has been imported earlier\n",
        "\n",
        "M = sy.Matrix( [ [20, 10, 5], [4, 14, 5], [4, 5, 12] ] )\n",
        "R = sy.Matrix( [ [100, 104, 102, 96], [66, 64, 68, 68], [102, 100, 98, 100] ] )\n",
        "TotCost = M * R\n",
        "print(\"\\n Rowwise : Company A, B and C : Total Production-Value :: \\n\", TotCost)\n",
        "print(\"\\nMax cost for Company A : \", max(TotCost.row(0)) )\n",
        "print(\"\\nMax cost for Company B : \", max(TotCost.row(1)) )\n",
        "print(\"\\nMax cost for Company C : \", max(TotCost.row(2)) )\n",
        "print(\"\\nMax cost for  price set 1: \", sum(TotCost.col(0)) )\n",
        "print(\"\\nMax cost for  price set 2: \", sum(TotCost.col(1)) )\n",
        "print(\"\\nMax cost for  price set 3: \", sum(TotCost.col(2)) ) # This the best process\n",
        "print(\"\\nMax cost for  price set 4: \", sum(TotCost.col(3)) )\n"
      ],
      "execution_count": 49,
      "outputs": [
        {
          "output_type": "stream",
          "text": [
            "\n",
            " Rowwise : Company A, B and C : Total Production-Value :: \n",
            " Matrix([[3170, 3220, 3210, 3100], [1834, 1812, 1850, 1836], [1954, 1936, 1924, 1924]])\n",
            "\n",
            "Max cost for Company A :  3220\n",
            "\n",
            "Max cost for Company B :  1850\n",
            "\n",
            "Max cost for Company C :  1954\n",
            "\n",
            "Max cost for  price set 1:  6958\n",
            "\n",
            "Max cost for  price set 2:  6968\n",
            "\n",
            "Max cost for  price set 3:  6984\n",
            "\n",
            "Max cost for  price set 4:  6860\n"
          ],
          "name": "stdout"
        }
      ]
    },
    {
      "cell_type": "markdown",
      "metadata": {
        "id": "NlBkaoqA5kdQ"
      },
      "source": [
        "Max cost for  price set 3:  6984 - Best one"
      ]
    },
    {
      "cell_type": "markdown",
      "metadata": {
        "id": "cga8JrkApzh1"
      },
      "source": [
        "### Marginal Cost"
      ]
    },
    {
      "cell_type": "markdown",
      "metadata": {
        "id": "8nN5V5NXpzh2"
      },
      "source": [
        "The total cost $C(x)$ in Rupees, associated with the production of $x$ gallons of gasoline is given by \n",
        "\n",
        "$$C(x) = 0.005 x^3 – 0.02 x^2 + 30x + 5000$$\n",
        "\n",
        "Find the marginal cost when $22$ gallons are produced, where, marginal cost means the instantaneous rate of change of total cost at any level of output."
      ]
    },
    {
      "cell_type": "code",
      "metadata": {
        "id": "rO-HMED3pzh2"
      },
      "source": [
        "# YOUR CODE HERE"
      ],
      "execution_count": null,
      "outputs": []
    },
    {
      "cell_type": "code",
      "metadata": {
        "colab": {
          "base_uri": "https://localhost:8080/"
        },
        "id": "dtnOM2F3ORu6",
        "outputId": "26805a92-7992-4740-bd97-39b88d87e22b"
      },
      "source": [
        "# d/dx\n",
        "# sy is sympy which has been imported earlier\n",
        "\n",
        "# defining the symbols used in the expression for C(x)\n",
        "x = sy.symbols('x')\n",
        "\n",
        "# defining the expression C(x)\n",
        "Cx = 0.005 * x**3 - 0.02 * x**2 + 30 * x + 5000\n",
        "costexpr = sy.Derivative(Cx, x).doit()\n",
        "\n",
        "print(\"\\nCost Expression after differentiation :: \", costexpr)\n",
        "\n",
        "# Substituting value of x = 22\n",
        "marginalCost = costexpr.subs(x, 22)\n",
        "print(\"\\n Marginal Cost for x at 22 = \", round(marginalCost, 2) )\n"
      ],
      "execution_count": 51,
      "outputs": [
        {
          "output_type": "stream",
          "text": [
            "\n",
            "Cost Expression after differentiation ::  0.015*x**2 - 0.04*x + 30\n",
            "\n",
            " Marginal Cost for x at 22 =  36.38\n"
          ],
          "name": "stdout"
        }
      ]
    },
    {
      "cell_type": "markdown",
      "metadata": {
        "id": "qOMlrDEhpzh2"
      },
      "source": [
        "### Marginal Revenue"
      ]
    },
    {
      "cell_type": "markdown",
      "metadata": {
        "id": "bfS88lmWpzh2"
      },
      "source": [
        "The total revenue in Rupees received from the sale of $x$ gallons of a motor oil is given by $$R(x) = 3x^2 + 36x + 5.$$ \n",
        "\n",
        "Find the marginal revenue, when $x = 28$, where, marginal revenue means the rate of change of total revenue with respect to the number of items sold at an instant."
      ]
    },
    {
      "cell_type": "code",
      "metadata": {
        "id": "rb0h6p49pzh2"
      },
      "source": [
        "# YOUR CODE HERE"
      ],
      "execution_count": null,
      "outputs": []
    },
    {
      "cell_type": "code",
      "metadata": {
        "colab": {
          "base_uri": "https://localhost:8080/"
        },
        "id": "jR2bpSwXW_zH",
        "outputId": "0a391a08-34f2-4b20-e51a-bbea0f716e27"
      },
      "source": [
        "#d/dx\n",
        "# sy is sympy which has been imported earlier\n",
        "\n",
        "# Defining Rx as a function so no need to define symbols seperately\n",
        "Rx = sy.Function('Rx')\n",
        "Rx = 3 * x**2 + 36 * x + 5\n",
        "revexpr = sy.diff(Rx, x) \n",
        "\n",
        "print(\"\\n Revenue expression :: \", revexpr)\n",
        "\n",
        "marginalRevenue = revexpr.evalf(subs = {x : 28})\n",
        "\n",
        "marginalRevenue_2 = revexpr.evalf(subs = {x : 30})\n",
        "\n",
        "print(\"\\n Marginal Reveneue when x = 28  is \", round(marginalRevenue) )\n",
        "\n",
        "print(\"\\n Marginal Reveneue when x = 30  is \", round(marginalRevenue_2) )\n"
      ],
      "execution_count": 52,
      "outputs": [
        {
          "output_type": "stream",
          "text": [
            "\n",
            " Revenue expression ::  6*x + 36\n",
            "\n",
            " Marginal Reveneue when x = 28  is  204\n",
            "\n",
            " Marginal Reveneue when x = 30  is  216\n"
          ],
          "name": "stdout"
        }
      ]
    },
    {
      "cell_type": "markdown",
      "metadata": {
        "id": "ZKb5VuM_pzh2"
      },
      "source": [
        "### Pour crude oil in tank"
      ]
    },
    {
      "cell_type": "markdown",
      "metadata": {
        "id": "TD9zv5jPpzh2"
      },
      "source": [
        "In a cylindrical tank of radius 10 meter, crude oil is being poured at the rate of 314 cubic meter per hour. Then find\n",
        "\n",
        "* the rate at which the height of the tank is increasing, and\n",
        "* the height of crude oil in tank after 2 hours."
      ]
    },
    {
      "cell_type": "code",
      "metadata": {
        "id": "g6ntcdNypzh2"
      },
      "source": [
        "# YOUR CODE HERE"
      ],
      "execution_count": null,
      "outputs": []
    },
    {
      "cell_type": "code",
      "metadata": {
        "colab": {
          "base_uri": "https://localhost:8080/"
        },
        "id": "n45QJaAMaI9L",
        "outputId": "6f78b010-954c-4c83-8622-1666d1aec1ec"
      },
      "source": [
        "# 1. Rate at which height of the tank is increasing\n",
        "# Given :\n",
        "r = 10\n",
        "rate = 314  # m3/hr\n",
        "# V = 3.14 * r**2 * h\n",
        "\n",
        "# Define symbols\n",
        "\n",
        "h = V / 3.14 * r**2   \n",
        "dhdt = rate / (3.14 * r**2)   # dV/dt = rate of change\n",
        "\n",
        "print(\"\\n Rate at which height is increasing = \", dhdt, \" m3/hr\")\n",
        "\n",
        "# Mathematically from Shashank's jpg :\n",
        "# dh/dt = d/dt ( V/3.14 * r**2) \n",
        "#       = 1/3.14 x r**2 x (dV/dt)\n",
        "#       = 1/3.14 x 10**2 x 314 m3/hour = 1 m3/hour \n",
        "\n",
        "# Height of tank after 2 hours\n",
        "H = (2 * rate) / (3.14 * r**2) \n",
        "\n",
        "print(\"\\n Height of tank after 2 hours : \", H, \" m\")"
      ],
      "execution_count": null,
      "outputs": [
        {
          "output_type": "stream",
          "text": [
            "\n",
            " Rate at which height is increasing =  1.0  m3/hr\n",
            "\n",
            " Height of tank after 2 hours :  2.0  m\n"
          ],
          "name": "stdout"
        }
      ]
    },
    {
      "cell_type": "code",
      "metadata": {
        "colab": {
          "base_uri": "https://localhost:8080/"
        },
        "id": "pw43awwg6-3v",
        "outputId": "c589d5af-08eb-4538-e12d-499eac76081f"
      },
      "source": [
        "# YOUR CODE HERE\n",
        "# v = pi r**2 h \n",
        "# dv/dt = pi r**2 dh/dt\n",
        "rate = 314 / (np.pi * 10 * 10)\n",
        "print(str(rate) + \" m/h\" )\n",
        "print(\"After 2 hours : \" + str(2*rate) + \" m\" )"
      ],
      "execution_count": 53,
      "outputs": [
        {
          "output_type": "stream",
          "text": [
            "0.9994930426171027 m/h\n",
            "After 2 hours : 1.9989860852342054 m\n"
          ],
          "name": "stdout"
        }
      ]
    },
    {
      "cell_type": "code",
      "metadata": {
        "id": "F7tP59UN-qGt"
      },
      "source": [
        ""
      ],
      "execution_count": null,
      "outputs": []
    },
    {
      "cell_type": "code",
      "metadata": {
        "id": "M-_vG9nXcmTU"
      },
      "source": [
        ""
      ],
      "execution_count": null,
      "outputs": []
    }
  ]
}