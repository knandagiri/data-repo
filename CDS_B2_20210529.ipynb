{
  "nbformat": 4,
  "nbformat_minor": 0,
  "metadata": {
    "colab": {
      "name": "CDS-B2-20210529.ipynb",
      "private_outputs": true,
      "provenance": [],
      "collapsed_sections": [],
      "include_colab_link": true
    },
    "kernelspec": {
      "name": "python3",
      "display_name": "Python 3"
    },
    "language_info": {
      "name": "python"
    }
  },
  "cells": [
    {
      "cell_type": "markdown",
      "metadata": {
        "id": "view-in-github",
        "colab_type": "text"
      },
      "source": [
        "<a href=\"https://colab.research.google.com/github/knandagiri/data-repo/blob/master/CDS_B2_20210529.ipynb\" target=\"_parent\"><img src=\"https://colab.research.google.com/assets/colab-badge.svg\" alt=\"Open In Colab\"/></a>"
      ]
    },
    {
      "cell_type": "markdown",
      "metadata": {
        "id": "RKNA79oQja7m"
      },
      "source": [
        "# Procedural Odometer\n",
        "## We do not want to rely on scope-rules of Python and colab"
      ]
    },
    {
      "cell_type": "markdown",
      "metadata": {
        "id": "os5AxfH-lPMT"
      },
      "source": [
        "*Design Note:* All functions take integer arguments; if needed we convert them to strings inside. In other words, we do not treat the readings themselves as strings"
      ]
    },
    {
      "cell_type": "markdown",
      "metadata": {
        "id": "_LINJkocj2mc"
      },
      "source": [
        "The set of functions verify if a number is a valid reading. Recall the constraints:\n",
        "\n",
        "* No zero\n",
        "\n",
        "* Ascending (strictly)"
      ]
    },
    {
      "cell_type": "code",
      "metadata": {
        "id": "3EgXzVRUjvwn"
      },
      "source": [
        "def is_valid(n: int) -> bool:\n",
        "    prev = '0'\n",
        "    for ch in str(n):\n",
        "        if ch <= prev:\n",
        "            return False\n",
        "        prev = ch\n",
        "    return True"
      ],
      "execution_count": null,
      "outputs": []
    },
    {
      "cell_type": "code",
      "metadata": {
        "id": "-zelCBS-j2RW"
      },
      "source": [
        "def is_Valid(n: int) -> bool:\n",
        "    if n < 10:\n",
        "        return True\n",
        "    last_digit, rest = n % 10, n // 10\n",
        "    if (rest % 10) >= last_digit:\n",
        "        return False\n",
        "    return is_Valid(rest)"
      ],
      "execution_count": null,
      "outputs": []
    },
    {
      "cell_type": "code",
      "metadata": {
        "id": "Kewe_5r6j2So"
      },
      "source": [
        "def isvalid(n: int) -> bool:\n",
        "    sn = str(n)\n",
        "    return all([a < b for a, b in zip(sn, sn[1:])])"
      ],
      "execution_count": null,
      "outputs": []
    },
    {
      "cell_type": "code",
      "metadata": {
        "id": "n6dAUCq_U7Ga"
      },
      "source": [
        "list(zip(\"123456789\", \"23456789\"))"
      ],
      "execution_count": null,
      "outputs": []
    },
    {
      "cell_type": "markdown",
      "metadata": {
        "id": "7CaFXnAmql7W"
      },
      "source": [
        "The next three functions find the number of digits of the odometer, given a reading"
      ]
    },
    {
      "cell_type": "code",
      "metadata": {
        "id": "DzyQyQBYl7jE"
      },
      "source": [
        "def digit_Count(n: int) -> int:\n",
        "    answer = 0\n",
        "    while n > 0:\n",
        "        answer += 1\n",
        "        n //= 10\n",
        "    return answer"
      ],
      "execution_count": null,
      "outputs": []
    },
    {
      "cell_type": "code",
      "metadata": {
        "id": "mIdfa5g2mRjr"
      },
      "source": [
        "def digit_count(n: int) -> int:\n",
        "    return len(str(n))"
      ],
      "execution_count": null,
      "outputs": []
    },
    {
      "cell_type": "code",
      "metadata": {
        "id": "Fs6f6p7ImjB9"
      },
      "source": [
        "import math\n",
        "def digitCount(n: int) -> int:\n",
        "    return 1 + int(math.log10(n))"
      ],
      "execution_count": null,
      "outputs": []
    },
    {
      "cell_type": "code",
      "metadata": {
        "id": "yWN8UuPDlgSL"
      },
      "source": [
        "def limits(reading: int) -> (int, int):\n",
        "    DIGITS = \"123456789\"\n",
        "    size = digit_count(reading)\n",
        "    return int(DIGITS[:size]), int(DIGITS[-size:])"
      ],
      "execution_count": null,
      "outputs": []
    },
    {
      "cell_type": "code",
      "metadata": {
        "id": "7QiZpxLdnKsK"
      },
      "source": [
        "def nextReading(r: int) -> int:\n",
        "    mini, maxi = limits(r)\n",
        "    if r == maxi:\n",
        "        return mini\n",
        "    r += 1\n",
        "    while not isvalid(r):\n",
        "        r += 1\n",
        "    return r"
      ],
      "execution_count": null,
      "outputs": []
    },
    {
      "cell_type": "code",
      "metadata": {
        "id": "-AbmEb_onp_U"
      },
      "source": [
        "def prevReading(r: int) -> int:\n",
        "    mini, maxi = limits(r)\n",
        "    if r == mini:\n",
        "        return maxi\n",
        "    r -= 1\n",
        "    while not isvalid(r):\n",
        "        r -= 1\n",
        "    return r"
      ],
      "execution_count": null,
      "outputs": []
    },
    {
      "cell_type": "code",
      "metadata": {
        "id": "BhYWRNBCn0OT"
      },
      "source": [
        "def nextNthReading(r: int, step: int) -> int:\n",
        "    for i in range(step):\n",
        "        r = nextReading(r)\n",
        "    return r"
      ],
      "execution_count": null,
      "outputs": []
    },
    {
      "cell_type": "code",
      "metadata": {
        "id": "PEiV_WAAoWWD"
      },
      "source": [
        "def next_reading(r: int, step = 1) -> int:\n",
        "    mini, maxi = limits(r)\n",
        "    for i in range(step):\n",
        "        if r == maxi:\n",
        "            r = mini\n",
        "        else:\n",
        "            r += 1\n",
        "            while not isvalid(r):\n",
        "                r += 1\n",
        "    return r"
      ],
      "execution_count": null,
      "outputs": []
    },
    {
      "cell_type": "code",
      "metadata": {
        "id": "qzh5uKxqo2Vc"
      },
      "source": [
        "def prev_reading(r: int, step = 1) -> int:\n",
        "    mini, maxi = limits(r)\n",
        "    for i in range(step):\n",
        "        if r == mini:\n",
        "            r = maxi\n",
        "        else:\n",
        "            r -= 1\n",
        "            while not isvalid(r):\n",
        "                r -= 1\n",
        "    return r"
      ],
      "execution_count": null,
      "outputs": []
    },
    {
      "cell_type": "code",
      "metadata": {
        "id": "dHpBtwgIpYvx"
      },
      "source": [
        "def distance(a: int, b: int):\n",
        "    if digit_count(a) != digit_count(b):\n",
        "        return -1\n",
        "    diff = 0\n",
        "    while a != b:\n",
        "        a = next_reading(a)\n",
        "        diff += 1\n",
        "    return diff"
      ],
      "execution_count": null,
      "outputs": []
    },
    {
      "cell_type": "markdown",
      "metadata": {
        "id": "xenfw35Bpnga"
      },
      "source": [
        "## Objects"
      ]
    },
    {
      "cell_type": "code",
      "metadata": {
        "id": "-hsnHiRaq-Zn"
      },
      "source": [
        "class Odometer:\n",
        "    '''Odometer class'''\n",
        "    def __init__(self, size):\n",
        "        if 1 < size < 9:\n",
        "            DIGITS = \"123456789\"\n",
        "            self.SIZE = size\n",
        "            self.lo = int(DIGITS[:size])\n",
        "            self.hi = int(DIGITS[-size:])\n",
        "            self.reading = self.lo\n",
        "        else:\n",
        "            raise ValueError(\"size should be between 2 and 8\")\n",
        "    \n",
        "    def __str__(self):\n",
        "        return str(self.reading)\n",
        "    \n",
        "    def __repr__(self):\n",
        "        return f'{self.lo} <-- {self.reading} --> {self.hi}'\n",
        "\n",
        "    @staticmethod\n",
        "    def is_valid(r):\n",
        "        sn = str(r)\n",
        "        return all([a < b for a, b in zip(sn, sn[1:])])\n",
        "    \n",
        "    def forward(self, step:int = 1):\n",
        "        r = self.reading\n",
        "        for i in range(step):\n",
        "            if r == self.hi:\n",
        "                r = self.lo\n",
        "            else:\n",
        "                r += 1\n",
        "                while not is_valid(r):\n",
        "                    r += 1\n",
        "        self.reading = r\n",
        "    \n",
        "    def drawkcab(self, step:int = 1):\n",
        "        r = self.reading\n",
        "        for i in range(step):\n",
        "            if r == self.lo:\n",
        "                r = self.hi\n",
        "            else:\n",
        "                r -= 1\n",
        "                while not is_valid(r):\n",
        "                    r -= 1\n",
        "        self.reading = r\n",
        "    \n",
        "    def distance(self, other) -> int:\n",
        "        if self.SIZE != other.SIZE:\n",
        "            raise TypeError(\"Odometers are not of same size\")\n",
        "        copy = Odometer(self.SIZE)\n",
        "        copy.reading = self.reading\n",
        "        diff = 0\n",
        "        while copy.reading != other.reading:\n",
        "            copy.forward()\n",
        "            diff += 1\n",
        "        return diff"
      ],
      "execution_count": null,
      "outputs": []
    },
    {
      "cell_type": "code",
      "metadata": {
        "id": "DonCntOgsClX"
      },
      "source": [
        "s = Odometer(3)"
      ],
      "execution_count": null,
      "outputs": []
    },
    {
      "cell_type": "code",
      "metadata": {
        "id": "Vbu-FwvNsYMw"
      },
      "source": [
        "s.forward(20)"
      ],
      "execution_count": null,
      "outputs": []
    },
    {
      "cell_type": "code",
      "metadata": {
        "id": "bAPl7GuysY2_"
      },
      "source": [
        "print(s)"
      ],
      "execution_count": null,
      "outputs": []
    },
    {
      "cell_type": "code",
      "metadata": {
        "id": "NNwAN-xrsajT"
      },
      "source": [
        "s = \"Hello\""
      ],
      "execution_count": null,
      "outputs": []
    },
    {
      "cell_type": "code",
      "metadata": {
        "id": "5icBa8xDc5s2"
      },
      "source": [
        "print(s)"
      ],
      "execution_count": null,
      "outputs": []
    },
    {
      "cell_type": "code",
      "metadata": {
        "id": "MmHXRgJ5c6uu"
      },
      "source": [
        "s"
      ],
      "execution_count": null,
      "outputs": []
    },
    {
      "cell_type": "code",
      "metadata": {
        "id": "8wu1d4csc8WU"
      },
      "source": [
        ""
      ],
      "execution_count": null,
      "outputs": []
    }
  ]
}